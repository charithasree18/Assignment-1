{
 "cells": [
  {
   "cell_type": "code",
   "execution_count": 1,
   "id": "deed229b-000a-4bbb-807e-b7c8e3520c68",
   "metadata": {},
   "outputs": [
    {
     "name": "stdin",
     "output_type": "stream",
     "text": [
      "Enter your first name:  cherry\n",
      "Enter your last name:  vijay\n"
     ]
    },
    {
     "name": "stdout",
     "output_type": "stream",
     "text": [
      "\n",
      "Hello, cherry vijay! Welcome to the program.\n"
     ]
    }
   ],
   "source": [
    "# Step 1: Take user's first name and last name as input\n",
    "first_name = input(\"Enter your first name: \")\n",
    "last_name = input(\"Enter your last name: \")\n",
    "\n",
    "# Step 2: Concatenate first name and last name to form full name\n",
    "full_name = first_name + \" \" + last_name\n",
    "\n",
    "# Step 3: Print a personalized greeting message\n",
    "print(f\"\\nHello, {full_name}! Welcome to the program.\")"
   ]
  },
  {
   "cell_type": "code",
   "execution_count": null,
   "id": "9d0451a8-15ad-4288-b02e-a0f2338fb348",
   "metadata": {},
   "outputs": [],
   "source": []
  }
 ],
 "metadata": {
  "kernelspec": {
   "display_name": "Python [conda env:base] *",
   "language": "python",
   "name": "conda-base-py"
  },
  "language_info": {
   "codemirror_mode": {
    "name": "ipython",
    "version": 3
   },
   "file_extension": ".py",
   "mimetype": "text/x-python",
   "name": "python",
   "nbconvert_exporter": "python",
   "pygments_lexer": "ipython3",
   "version": "3.12.7"
  }
 },
 "nbformat": 4,
 "nbformat_minor": 5
}
